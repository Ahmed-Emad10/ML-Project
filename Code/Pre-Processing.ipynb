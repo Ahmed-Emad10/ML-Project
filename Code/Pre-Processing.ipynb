{
 "cells": [
  {
   "cell_type": "code",
   "execution_count": 55,
   "metadata": {},
   "outputs": [],
   "source": [
    "import pandas as pd\n",
    "import numpy as np\n",
    "import matplotlib.pyplot as plt\n",
    "import seaborn as sns"
   ]
  },
  {
   "cell_type": "markdown",
   "metadata": {},
   "source": [
    "## Data Visualization"
   ]
  },
  {
   "cell_type": "code",
   "execution_count": 56,
   "metadata": {},
   "outputs": [
    {
     "data": {
      "text/html": [
       "<div>\n",
       "<style scoped>\n",
       "    .dataframe tbody tr th:only-of-type {\n",
       "        vertical-align: middle;\n",
       "    }\n",
       "\n",
       "    .dataframe tbody tr th {\n",
       "        vertical-align: top;\n",
       "    }\n",
       "\n",
       "    .dataframe thead th {\n",
       "        text-align: right;\n",
       "    }\n",
       "</style>\n",
       "<table border=\"1\" class=\"dataframe\">\n",
       "  <thead>\n",
       "    <tr style=\"text-align: right;\">\n",
       "      <th></th>\n",
       "      <th>Gender</th>\n",
       "      <th>Age</th>\n",
       "      <th>Height</th>\n",
       "      <th>Weight</th>\n",
       "      <th>H_Cal_Consump</th>\n",
       "      <th>Veg_Consump</th>\n",
       "      <th>Water_Consump</th>\n",
       "      <th>Alcohol_Consump</th>\n",
       "      <th>Smoking</th>\n",
       "      <th>Meal_Count</th>\n",
       "      <th>Food_Between_Meals</th>\n",
       "      <th>Fam_Hist</th>\n",
       "      <th>H_Cal_Burn</th>\n",
       "      <th>Phys_Act</th>\n",
       "      <th>Time_E_Dev</th>\n",
       "      <th>Transport</th>\n",
       "      <th>Body_Level</th>\n",
       "    </tr>\n",
       "  </thead>\n",
       "  <tbody>\n",
       "    <tr>\n",
       "      <th>0</th>\n",
       "      <td>Female</td>\n",
       "      <td>22.547298</td>\n",
       "      <td>1.722461</td>\n",
       "      <td>51.881263</td>\n",
       "      <td>yes</td>\n",
       "      <td>2.663421</td>\n",
       "      <td>1.041110</td>\n",
       "      <td>no</td>\n",
       "      <td>no</td>\n",
       "      <td>3.000000</td>\n",
       "      <td>Frequently</td>\n",
       "      <td>yes</td>\n",
       "      <td>no</td>\n",
       "      <td>0.794402</td>\n",
       "      <td>1.391948</td>\n",
       "      <td>Public_Transportation</td>\n",
       "      <td>Body Level 1</td>\n",
       "    </tr>\n",
       "    <tr>\n",
       "      <th>1</th>\n",
       "      <td>Male</td>\n",
       "      <td>19.799054</td>\n",
       "      <td>1.743702</td>\n",
       "      <td>54.927529</td>\n",
       "      <td>yes</td>\n",
       "      <td>2.000000</td>\n",
       "      <td>2.847264</td>\n",
       "      <td>Sometimes</td>\n",
       "      <td>no</td>\n",
       "      <td>3.289260</td>\n",
       "      <td>Sometimes</td>\n",
       "      <td>yes</td>\n",
       "      <td>no</td>\n",
       "      <td>1.680844</td>\n",
       "      <td>2.000000</td>\n",
       "      <td>Public_Transportation</td>\n",
       "      <td>Body Level 1</td>\n",
       "    </tr>\n",
       "    <tr>\n",
       "      <th>2</th>\n",
       "      <td>Female</td>\n",
       "      <td>17.823438</td>\n",
       "      <td>1.708406</td>\n",
       "      <td>50.000000</td>\n",
       "      <td>yes</td>\n",
       "      <td>1.642241</td>\n",
       "      <td>1.099231</td>\n",
       "      <td>Sometimes</td>\n",
       "      <td>no</td>\n",
       "      <td>3.452590</td>\n",
       "      <td>Sometimes</td>\n",
       "      <td>no</td>\n",
       "      <td>no</td>\n",
       "      <td>0.418875</td>\n",
       "      <td>1.000000</td>\n",
       "      <td>Public_Transportation</td>\n",
       "      <td>Body Level 1</td>\n",
       "    </tr>\n",
       "    <tr>\n",
       "      <th>3</th>\n",
       "      <td>Female</td>\n",
       "      <td>19.007177</td>\n",
       "      <td>1.690727</td>\n",
       "      <td>49.895716</td>\n",
       "      <td>yes</td>\n",
       "      <td>1.212908</td>\n",
       "      <td>1.029703</td>\n",
       "      <td>Sometimes</td>\n",
       "      <td>no</td>\n",
       "      <td>3.207071</td>\n",
       "      <td>Sometimes</td>\n",
       "      <td>no</td>\n",
       "      <td>no</td>\n",
       "      <td>2.000000</td>\n",
       "      <td>1.000000</td>\n",
       "      <td>Public_Transportation</td>\n",
       "      <td>Body Level 1</td>\n",
       "    </tr>\n",
       "    <tr>\n",
       "      <th>4</th>\n",
       "      <td>Male</td>\n",
       "      <td>19.729250</td>\n",
       "      <td>1.793315</td>\n",
       "      <td>58.195150</td>\n",
       "      <td>yes</td>\n",
       "      <td>2.508835</td>\n",
       "      <td>2.076933</td>\n",
       "      <td>no</td>\n",
       "      <td>no</td>\n",
       "      <td>3.435905</td>\n",
       "      <td>Sometimes</td>\n",
       "      <td>yes</td>\n",
       "      <td>no</td>\n",
       "      <td>2.026668</td>\n",
       "      <td>1.443328</td>\n",
       "      <td>Automobile</td>\n",
       "      <td>Body Level 1</td>\n",
       "    </tr>\n",
       "  </tbody>\n",
       "</table>\n",
       "</div>"
      ],
      "text/plain": [
       "   Gender        Age    Height     Weight H_Cal_Consump  Veg_Consump  \\\n",
       "0  Female  22.547298  1.722461  51.881263           yes     2.663421   \n",
       "1    Male  19.799054  1.743702  54.927529           yes     2.000000   \n",
       "2  Female  17.823438  1.708406  50.000000           yes     1.642241   \n",
       "3  Female  19.007177  1.690727  49.895716           yes     1.212908   \n",
       "4    Male  19.729250  1.793315  58.195150           yes     2.508835   \n",
       "\n",
       "   Water_Consump Alcohol_Consump Smoking  Meal_Count Food_Between_Meals  \\\n",
       "0       1.041110              no      no    3.000000         Frequently   \n",
       "1       2.847264       Sometimes      no    3.289260          Sometimes   \n",
       "2       1.099231       Sometimes      no    3.452590          Sometimes   \n",
       "3       1.029703       Sometimes      no    3.207071          Sometimes   \n",
       "4       2.076933              no      no    3.435905          Sometimes   \n",
       "\n",
       "  Fam_Hist H_Cal_Burn  Phys_Act  Time_E_Dev              Transport  \\\n",
       "0      yes         no  0.794402    1.391948  Public_Transportation   \n",
       "1      yes         no  1.680844    2.000000  Public_Transportation   \n",
       "2       no         no  0.418875    1.000000  Public_Transportation   \n",
       "3       no         no  2.000000    1.000000  Public_Transportation   \n",
       "4      yes         no  2.026668    1.443328             Automobile   \n",
       "\n",
       "     Body_Level  \n",
       "0  Body Level 1  \n",
       "1  Body Level 1  \n",
       "2  Body Level 1  \n",
       "3  Body Level 1  \n",
       "4  Body Level 1  "
      ]
     },
     "execution_count": 56,
     "metadata": {},
     "output_type": "execute_result"
    }
   ],
   "source": [
    "# Read in data\n",
    "df = pd.read_csv('../Data/body_level_classification_train.csv')\n",
    "df.head()"
   ]
  },
  {
   "cell_type": "code",
   "execution_count": 57,
   "metadata": {},
   "outputs": [
    {
     "data": {
      "text/plain": [
       "Gender                   2\n",
       "Age                    993\n",
       "Height                1113\n",
       "Weight                1081\n",
       "H_Cal_Consump            2\n",
       "Veg_Consump            578\n",
       "Water_Consump          894\n",
       "Alcohol_Consump          4\n",
       "Smoking                  2\n",
       "Meal_Count             460\n",
       "Food_Between_Meals       4\n",
       "Fam_Hist                 2\n",
       "H_Cal_Burn               2\n",
       "Phys_Act               846\n",
       "Time_E_Dev             785\n",
       "Transport                5\n",
       "Body_Level               4\n",
       "dtype: int64"
      ]
     },
     "execution_count": 57,
     "metadata": {},
     "output_type": "execute_result"
    }
   ],
   "source": [
    "df.nunique()"
   ]
  },
  {
   "cell_type": "code",
   "execution_count": 58,
   "metadata": {},
   "outputs": [
    {
     "data": {
      "text/plain": [
       "Gender                 object\n",
       "Age                   float64\n",
       "Height                float64\n",
       "Weight                float64\n",
       "H_Cal_Consump          object\n",
       "Veg_Consump           float64\n",
       "Water_Consump         float64\n",
       "Alcohol_Consump        object\n",
       "Smoking                object\n",
       "Meal_Count            float64\n",
       "Food_Between_Meals     object\n",
       "Fam_Hist               object\n",
       "H_Cal_Burn             object\n",
       "Phys_Act              float64\n",
       "Time_E_Dev            float64\n",
       "Transport              object\n",
       "Body_Level             object\n",
       "dtype: object"
      ]
     },
     "execution_count": 58,
     "metadata": {},
     "output_type": "execute_result"
    }
   ],
   "source": [
    "df.dtypes"
   ]
  },
  {
   "cell_type": "code",
   "execution_count": 59,
   "metadata": {},
   "outputs": [
    {
     "name": "stdout",
     "output_type": "stream",
     "text": [
      "<class 'pandas.core.frame.DataFrame'>\n",
      "RangeIndex: 1477 entries, 0 to 1476\n",
      "Data columns (total 17 columns):\n",
      " #   Column              Non-Null Count  Dtype  \n",
      "---  ------              --------------  -----  \n",
      " 0   Gender              1477 non-null   object \n",
      " 1   Age                 1477 non-null   float64\n",
      " 2   Height              1477 non-null   float64\n",
      " 3   Weight              1477 non-null   float64\n",
      " 4   H_Cal_Consump       1477 non-null   object \n",
      " 5   Veg_Consump         1477 non-null   float64\n",
      " 6   Water_Consump       1477 non-null   float64\n",
      " 7   Alcohol_Consump     1477 non-null   object \n",
      " 8   Smoking             1477 non-null   object \n",
      " 9   Meal_Count          1477 non-null   float64\n",
      " 10  Food_Between_Meals  1477 non-null   object \n",
      " 11  Fam_Hist            1477 non-null   object \n",
      " 12  H_Cal_Burn          1477 non-null   object \n",
      " 13  Phys_Act            1477 non-null   float64\n",
      " 14  Time_E_Dev          1477 non-null   float64\n",
      " 15  Transport           1477 non-null   object \n",
      " 16  Body_Level          1477 non-null   object \n",
      "dtypes: float64(8), object(9)\n",
      "memory usage: 196.3+ KB\n"
     ]
    }
   ],
   "source": [
    "# Check for null values\n",
    "df.info()"
   ]
  },
  {
   "cell_type": "code",
   "execution_count": 60,
   "metadata": {},
   "outputs": [
    {
     "data": {
      "image/png": "[encoded data removed]",
      "text/plain": [
       "<Figure size 432x288 with 1 Axes>"
      ]
     },
     "metadata": {
      "needs_background": "light"
     },
     "output_type": "display_data"
    },
    {
     "data": {
      "text/plain": [
       "Body Level 4    0.460393\n",
       "Body Level 3    0.274882\n",
       "Body Level 2    0.136087\n",
       "Body Level 1    0.128639\n",
       "Name: Body_Level, dtype: float64"
      ]
     },
     "execution_count": 60,
     "metadata": {},
     "output_type": "execute_result"
    }
   ],
   "source": [
    "#  body level distribution \n",
    "sns.countplot(x='Body_Level', data=df)\n",
    "plt.title('Body Level Distribution Count')\n",
    "plt.show()\n",
    "df['Body_Level'].value_counts(normalize=True)\n",
    "# need to balance the data"
   ]
  },
  {
   "cell_type": "code",
   "execution_count": 61,
   "metadata": {},
   "outputs": [
    {
     "data": {
      "image/png": "[encoded data removed]",
      "text/plain": [
       "<Figure size 432x288 with 1 Axes>"
      ]
     },
     "metadata": {
      "needs_background": "light"
     },
     "output_type": "display_data"
    }
   ],
   "source": [
    "# show the outliers of weight\n",
    "sns.boxplot(x=df['Weight'])\n",
    "plt.title('Weight Distribution')\n",
    "plt.show()"
   ]
  },
  {
   "cell_type": "code",
   "execution_count": 62,
   "metadata": {},
   "outputs": [
    {
     "data": {
      "image/png": "[encoded data removed]",
      "text/plain": [
       "<Figure size 432x288 with 1 Axes>"
      ]
     },
     "metadata": {
      "needs_background": "light"
     },
     "output_type": "display_data"
    }
   ],
   "source": [
    "sns.boxplot(x=df['Height'])\n",
    "plt.title('Height Distribution')\n",
    "plt.show()"
   ]
  },
  {
   "cell_type": "code",
   "execution_count": 63,
   "metadata": {},
   "outputs": [
    {
     "data": {
      "image/png": "[encoded data removed]",
      "text/plain": [
       "<Figure size 432x288 with 1 Axes>"
      ]
     },
     "metadata": {
      "needs_background": "light"
     },
     "output_type": "display_data"
    }
   ],
   "source": [
    "sns.boxplot(x=df['Age'])\n",
    "plt.title('Age Distribution')\n",
    "plt.show()\n",
    "# There are outliers in age"
   ]
  },
  {
   "cell_type": "code",
   "execution_count": 64,
   "metadata": {},
   "outputs": [
    {
     "name": "stdout",
     "output_type": "stream",
     "text": [
      "Count of ages over 35:  120\n"
     ]
    }
   ],
   "source": [
    "print('Count of ages over 35: ', len(df[df['Age'] > 35]))"
   ]
  },
  {
   "cell_type": "markdown",
   "metadata": {},
   "source": [
    "## preprocessing "
   ]
  },
  {
   "cell_type": "code",
   "execution_count": 65,
   "metadata": {},
   "outputs": [],
   "source": [
    "## Need to remove outliers ?? \n",
    "# sns.boxplot(x=df['Age'])\n",
    "# plt.title('Age Distribution')\n",
    "# plt.show()"
   ]
  },
  {
   "cell_type": "code",
   "execution_count": 66,
   "metadata": {},
   "outputs": [
    {
     "data": {
      "text/html": [
       "<div>\n",
       "<style scoped>\n",
       "    .dataframe tbody tr th:only-of-type {\n",
       "        vertical-align: middle;\n",
       "    }\n",
       "\n",
       "    .dataframe tbody tr th {\n",
       "        vertical-align: top;\n",
       "    }\n",
       "\n",
       "    .dataframe thead th {\n",
       "        text-align: right;\n",
       "    }\n",
       "</style>\n",
       "<table border=\"1\" class=\"dataframe\">\n",
       "  <thead>\n",
       "    <tr style=\"text-align: right;\">\n",
       "      <th></th>\n",
       "      <th>Age</th>\n",
       "      <th>Height</th>\n",
       "      <th>Weight</th>\n",
       "      <th>Veg_Consump</th>\n",
       "      <th>Water_Consump</th>\n",
       "      <th>Meal_Count</th>\n",
       "      <th>Phys_Act</th>\n",
       "      <th>Time_E_Dev</th>\n",
       "      <th>Body_Level</th>\n",
       "      <th>Gender_Female</th>\n",
       "      <th>...</th>\n",
       "      <th>Food_Between_Meals_no</th>\n",
       "      <th>Fam_Hist_no</th>\n",
       "      <th>Fam_Hist_yes</th>\n",
       "      <th>H_Cal_Burn_no</th>\n",
       "      <th>H_Cal_Burn_yes</th>\n",
       "      <th>Transport_Automobile</th>\n",
       "      <th>Transport_Bike</th>\n",
       "      <th>Transport_Motorbike</th>\n",
       "      <th>Transport_Public_Transportation</th>\n",
       "      <th>Transport_Walking</th>\n",
       "    </tr>\n",
       "  </thead>\n",
       "  <tbody>\n",
       "    <tr>\n",
       "      <th>0</th>\n",
       "      <td>22.547298</td>\n",
       "      <td>1.722461</td>\n",
       "      <td>51.881263</td>\n",
       "      <td>2.663421</td>\n",
       "      <td>1.041110</td>\n",
       "      <td>3.000000</td>\n",
       "      <td>0.794402</td>\n",
       "      <td>1.391948</td>\n",
       "      <td>Body Level 1</td>\n",
       "      <td>1</td>\n",
       "      <td>...</td>\n",
       "      <td>0</td>\n",
       "      <td>0</td>\n",
       "      <td>1</td>\n",
       "      <td>1</td>\n",
       "      <td>0</td>\n",
       "      <td>0</td>\n",
       "      <td>0</td>\n",
       "      <td>0</td>\n",
       "      <td>1</td>\n",
       "      <td>0</td>\n",
       "    </tr>\n",
       "    <tr>\n",
       "      <th>1</th>\n",
       "      <td>19.799054</td>\n",
       "      <td>1.743702</td>\n",
       "      <td>54.927529</td>\n",
       "      <td>2.000000</td>\n",
       "      <td>2.847264</td>\n",
       "      <td>3.289260</td>\n",
       "      <td>1.680844</td>\n",
       "      <td>2.000000</td>\n",
       "      <td>Body Level 1</td>\n",
       "      <td>0</td>\n",
       "      <td>...</td>\n",
       "      <td>0</td>\n",
       "      <td>0</td>\n",
       "      <td>1</td>\n",
       "      <td>1</td>\n",
       "      <td>0</td>\n",
       "      <td>0</td>\n",
       "      <td>0</td>\n",
       "      <td>0</td>\n",
       "      <td>1</td>\n",
       "      <td>0</td>\n",
       "    </tr>\n",
       "    <tr>\n",
       "      <th>2</th>\n",
       "      <td>17.823438</td>\n",
       "      <td>1.708406</td>\n",
       "      <td>50.000000</td>\n",
       "      <td>1.642241</td>\n",
       "      <td>1.099231</td>\n",
       "      <td>3.452590</td>\n",
       "      <td>0.418875</td>\n",
       "      <td>1.000000</td>\n",
       "      <td>Body Level 1</td>\n",
       "      <td>1</td>\n",
       "      <td>...</td>\n",
       "      <td>0</td>\n",
       "      <td>1</td>\n",
       "      <td>0</td>\n",
       "      <td>1</td>\n",
       "      <td>0</td>\n",
       "      <td>0</td>\n",
       "      <td>0</td>\n",
       "      <td>0</td>\n",
       "      <td>1</td>\n",
       "      <td>0</td>\n",
       "    </tr>\n",
       "    <tr>\n",
       "      <th>3</th>\n",
       "      <td>19.007177</td>\n",
       "      <td>1.690727</td>\n",
       "      <td>49.895716</td>\n",
       "      <td>1.212908</td>\n",
       "      <td>1.029703</td>\n",
       "      <td>3.207071</td>\n",
       "      <td>2.000000</td>\n",
       "      <td>1.000000</td>\n",
       "      <td>Body Level 1</td>\n",
       "      <td>1</td>\n",
       "      <td>...</td>\n",
       "      <td>0</td>\n",
       "      <td>1</td>\n",
       "      <td>0</td>\n",
       "      <td>1</td>\n",
       "      <td>0</td>\n",
       "      <td>0</td>\n",
       "      <td>0</td>\n",
       "      <td>0</td>\n",
       "      <td>1</td>\n",
       "      <td>0</td>\n",
       "    </tr>\n",
       "    <tr>\n",
       "      <th>4</th>\n",
       "      <td>19.729250</td>\n",
       "      <td>1.793315</td>\n",
       "      <td>58.195150</td>\n",
       "      <td>2.508835</td>\n",
       "      <td>2.076933</td>\n",
       "      <td>3.435905</td>\n",
       "      <td>2.026668</td>\n",
       "      <td>1.443328</td>\n",
       "      <td>Body Level 1</td>\n",
       "      <td>0</td>\n",
       "      <td>...</td>\n",
       "      <td>0</td>\n",
       "      <td>0</td>\n",
       "      <td>1</td>\n",
       "      <td>1</td>\n",
       "      <td>0</td>\n",
       "      <td>1</td>\n",
       "      <td>0</td>\n",
       "      <td>0</td>\n",
       "      <td>0</td>\n",
       "      <td>0</td>\n",
       "    </tr>\n",
       "  </tbody>\n",
       "</table>\n",
       "<p>5 rows × 32 columns</p>\n",
       "</div>"
      ],
      "text/plain": [
       "         Age    Height     Weight  Veg_Consump  Water_Consump  Meal_Count  \\\n",
       "0  22.547298  1.722461  51.881263     2.663421       1.041110    3.000000   \n",
       "1  19.799054  1.743702  54.927529     2.000000       2.847264    3.289260   \n",
       "2  17.823438  1.708406  50.000000     1.642241       1.099231    3.452590   \n",
       "3  19.007177  1.690727  49.895716     1.212908       1.029703    3.207071   \n",
       "4  19.729250  1.793315  58.195150     2.508835       2.076933    3.435905   \n",
       "\n",
       "   Phys_Act  Time_E_Dev    Body_Level  Gender_Female  ...  \\\n",
       "0  0.794402    1.391948  Body Level 1              1  ...   \n",
       "1  1.680844    2.000000  Body Level 1              0  ...   \n",
       "2  0.418875    1.000000  Body Level 1              1  ...   \n",
       "3  2.000000    1.000000  Body Level 1              1  ...   \n",
       "4  2.026668    1.443328  Body Level 1              0  ...   \n",
       "\n",
       "   Food_Between_Meals_no  Fam_Hist_no  Fam_Hist_yes  H_Cal_Burn_no  \\\n",
       "0                      0            0             1              1   \n",
       "1                      0            0             1              1   \n",
       "2                      0            1             0              1   \n",
       "3                      0            1             0              1   \n",
       "4                      0            0             1              1   \n",
       "\n",
       "   H_Cal_Burn_yes  Transport_Automobile  Transport_Bike  Transport_Motorbike  \\\n",
       "0               0                     0               0                    0   \n",
       "1               0                     0               0                    0   \n",
       "2               0                     0               0                    0   \n",
       "3               0                     0               0                    0   \n",
       "4               0                     1               0                    0   \n",
       "\n",
       "   Transport_Public_Transportation  Transport_Walking  \n",
       "0                                1                  0  \n",
       "1                                1                  0  \n",
       "2                                1                  0  \n",
       "3                                1                  0  \n",
       "4                                0                  0  \n",
       "\n",
       "[5 rows x 32 columns]"
      ]
     },
     "execution_count": 66,
     "metadata": {},
     "output_type": "execute_result"
    }
   ],
   "source": [
    "# make array to save the columns that are not numeric\n",
    "# non_numeric = []\n",
    "# for column in df.columns:\n",
    "#     if df[column].dtype == 'object':\n",
    "#         non_numeric.append(column)\n",
    "# # for each column in the non_numeric array, change the the unique values to numbers from 0 to n\n",
    "# for column in non_numeric:\n",
    "#     df[column] = pd.factorize(df[column])[0]\n",
    "\n",
    "# make the categorical columns into one hot encoding\n",
    "categorical_cols = ['Gender','H_Cal_Consump','Alcohol_Consump','Smoking','Food_Between_Meals','Fam_Hist','H_Cal_Burn','Transport']\n",
    "def encode_categorical(df):\n",
    "    for categorical in categorical_cols:\n",
    "        encoded_cat = pd.get_dummies(df[categorical], prefix=categorical, prefix_sep='_')\n",
    "        df = (df.drop([categorical], axis=1)).join(encoded_cat)\n",
    "    return df\n",
    "df = encode_categorical(df)\n",
    "df.head()"
   ]
  },
  {
   "cell_type": "code",
   "execution_count": 67,
   "metadata": {},
   "outputs": [],
   "source": [
    "# Gender                   2\n",
    "# H_Cal_Consump            2\n",
    "# Alcohol_Consump          4\n",
    "# Smoking                  2\n",
    "# Food_Between_Meals       4\n",
    "# Fam_Hist                 2\n",
    "# H_Cal_Burn               2\n",
    "# Transport                5\n",
    "# Body_Level               4\n",
    "# will writ comments to show the meaning of numbers in the columns that are not numeric\n",
    "# gender : female 0 and male 1\n",
    "# H_Cal_Consump : yes 0 and no 1\n",
    "# Alcohol_Consump : no 0, sometimes 1, frequently 2, always 3\n",
    "# Smoking : no 0 and yes 1\n",
    "# Food_Between_Meals : frequently 0, sometimes 1, no 2, always 3\n",
    "# Fam_Hist : yes 0 and no 1\n",
    "# H_Cal_Burn : no 0 and yes 1\n",
    "# Transport : public 0, automobile 1, walking 2, bike 3, motorbike 4\n",
    "# Body_Level : BL1 0, BL2 1, BL3 2, BL4 3\n"
   ]
  },
  {
   "attachments": {},
   "cell_type": "markdown",
   "metadata": {},
   "source": [
    "## test before oversampling"
   ]
  },
  {
   "cell_type": "code",
   "execution_count": 68,
   "metadata": {},
   "outputs": [
    {
     "name": "stdout",
     "output_type": "stream",
     "text": [
      "Accuracy of logistic regression classifier on test set: 0.83\n"
     ]
    },
    {
     "name": "stderr",
     "output_type": "stream",
     "text": [
      "c:\\Python38\\lib\\site-packages\\sklearn\\linear_model\\_logistic.py:458: ConvergenceWarning: lbfgs failed to converge (status=1):\n",
      "STOP: TOTAL NO. of ITERATIONS REACHED LIMIT.\n",
      "\n",
      "Increase the number of iterations (max_iter) or scale the data as shown in:\n",
      "    https://scikit-learn.org/stable/modules/preprocessing.html\n",
      "Please also refer to the documentation for alternative solver options:\n",
      "    https://scikit-learn.org/stable/modules/linear_model.html#logistic-regression\n",
      "  n_iter_i = _check_optimize_result(\n"
     ]
    }
   ],
   "source": [
    "#  see the accuracy before balancing the data\n",
    "from sklearn.model_selection import train_test_split\n",
    "from sklearn.linear_model import LogisticRegression\n",
    "from sklearn.metrics import accuracy_score\n",
    "# the target is Body_Level\n",
    "X = df.drop('Body_Level', axis=1)\n",
    "y = df['Body_Level']\n",
    "X_train, X_test, y_train, y_test = train_test_split(X, y, test_size=0.2, random_state=42)\n",
    "logreg = LogisticRegression()\n",
    "logreg.fit(X_train, y_train)\n",
    "y_pred = logreg.predict(X_test)\n",
    "print('Accuracy of logistic regression classifier on test set: {:.2f}'.format(accuracy_score(y_test, y_pred)))"
   ]
  },
  {
   "attachments": {},
   "cell_type": "markdown",
   "metadata": {},
   "source": [
    "## Balance the data using Over-sampling"
   ]
  },
  {
   "cell_type": "code",
   "execution_count": 69,
   "metadata": {},
   "outputs": [],
   "source": [
    "# balance the data by  random oversampling \n"
   ]
  },
  {
   "attachments": {},
   "cell_type": "markdown",
   "metadata": {},
   "source": [
    "# save features and labels"
   ]
  },
  {
   "cell_type": "code",
   "execution_count": 70,
   "metadata": {},
   "outputs": [],
   "source": [
    "df.to_csv('../Data/preprocessedData.csv', index=False)"
   ]
  }
 ],
 "metadata": {
  "kernelspec": {
   "display_name": "Python 3",
   "language": "python",
   "name": "python3"
  },
  "language_info": {
   "codemirror_mode": {
    "name": "ipython",
    "version": 3
   },
   "file_extension": ".py",
   "mimetype": "text/x-python",
   "name": "python",
   "nbconvert_exporter": "python",
   "pygments_lexer": "ipython3",
   "version": "3.8.3"
  },
  "orig_nbformat": 4
 },
 "nbformat": 4,
 "nbformat_minor": 2
}
